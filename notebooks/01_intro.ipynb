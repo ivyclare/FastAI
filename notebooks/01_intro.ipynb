{
  "nbformat": 4,
  "nbformat_minor": 0,
  "metadata": {
    "jupytext": {
      "split_at_heading": true
    },
    "kernelspec": {
      "name": "python3",
      "display_name": "Python 3"
    },
    "language_info": {
      "codemirror_mode": {
        "name": "ipython",
        "version": 3
      },
      "file_extension": ".py",
      "mimetype": "text/x-python",
      "name": "python",
      "nbconvert_exporter": "python",
      "pygments_lexer": "ipython3",
      "version": "3.7.4"
    },
    "colab": {
      "name": "01_intro.ipynb",
      "provenance": [],
      "include_colab_link": true
    },
    "accelerator": "GPU"
  },
  "cells": [
    {
      "cell_type": "markdown",
      "metadata": {
        "id": "view-in-github",
        "colab_type": "text"
      },
      "source": [
        "<a href=\"https://colab.research.google.com/github/ivyclare/FastAI/blob/master/01_intro.ipynb\" target=\"_parent\"><img src=\"https://colab.research.google.com/assets/colab-badge.svg\" alt=\"Open In Colab\"/></a>"
      ]
    },
    {
      "cell_type": "code",
      "metadata": {
        "id": "at9IjRLqwWbe",
        "colab_type": "code",
        "colab": {}
      },
      "source": [
        "# !pip install fastai2\n",
        "!pip install fastai2>=0.0.11 graphviz ipywidgets matplotlib nbdev>=0.2.12 pandas scikit_learn azure-cognitiveservices-search-imagesearch sentencepiece"
      ],
      "execution_count": 0,
      "outputs": []
    },
    {
      "cell_type": "code",
      "metadata": {
        "id": "5YIqWBMfwnIz",
        "colab_type": "code",
        "colab": {}
      },
      "source": [
        "# Mount to your Google Drive allowing lesson files will be saved to your Drive location\n",
        "from google.colab import drive\n",
        "drive.mount('/content/drive')\n",
        "\n",
        "\n",
        "%cd 'drive/My Drive/course-v4/nbs' "
      ],
      "execution_count": 0,
      "outputs": []
    },
    {
      "cell_type": "code",
      "metadata": {
        "id": "f7spHsl1vxO-",
        "colab_type": "code",
        "colab": {}
      },
      "source": [
        "#hide\n",
        "from utils import *"
      ],
      "execution_count": 0,
      "outputs": []
    },
    {
      "cell_type": "markdown",
      "metadata": {
        "id": "ErPgr3BPvxPF",
        "colab_type": "text"
      },
      "source": [
        "# Your deep learning journey"
      ]
    },
    {
      "cell_type": "markdown",
      "metadata": {
        "id": "fB2afd38vxPH",
        "colab_type": "text"
      },
      "source": [
        "## Deep learning is for everyone"
      ]
    },
    {
      "cell_type": "markdown",
      "metadata": {
        "id": "o_RuWMaxvxPI",
        "colab_type": "text"
      },
      "source": [
        "## Neural networks: a brief history"
      ]
    },
    {
      "cell_type": "markdown",
      "metadata": {
        "id": "udvkt325vxPK",
        "colab_type": "text"
      },
      "source": [
        "## What you will learn"
      ]
    },
    {
      "cell_type": "markdown",
      "metadata": {
        "id": "vJmyLWdYvxPL",
        "colab_type": "text"
      },
      "source": [
        "## Who we are"
      ]
    },
    {
      "cell_type": "markdown",
      "metadata": {
        "id": "NfXUD0iwvxPN",
        "colab_type": "text"
      },
      "source": [
        "## How to learn deep learning"
      ]
    },
    {
      "cell_type": "markdown",
      "metadata": {
        "id": "dVlTIpjtvxPO",
        "colab_type": "text"
      },
      "source": [
        "### Your projects and your mindset"
      ]
    },
    {
      "cell_type": "markdown",
      "metadata": {
        "id": "ols5QjjevxPP",
        "colab_type": "text"
      },
      "source": [
        "## The software: PyTorch, fastai, and Jupyter (and why it doesn't matter)"
      ]
    },
    {
      "cell_type": "markdown",
      "metadata": {
        "id": "0C_hWV-tvxPR",
        "colab_type": "text"
      },
      "source": [
        "## Your first model"
      ]
    },
    {
      "cell_type": "markdown",
      "metadata": {
        "id": "ShA5RmKhvxPS",
        "colab_type": "text"
      },
      "source": [
        "### Getting a GPU deep learning server"
      ]
    },
    {
      "cell_type": "markdown",
      "metadata": {
        "id": "-kJVVOqGvxPU",
        "colab_type": "text"
      },
      "source": [
        "### Running your first notebook"
      ]
    },
    {
      "cell_type": "code",
      "metadata": {
        "id": "fuF3V_2IvxPV",
        "colab_type": "code",
        "colab": {}
      },
      "source": [
        "# CLICK ME\n",
        "from fastai2.vision.all import *\n",
        "path = untar_data(URLs.PETS)/'images'\n",
        "\n",
        "def is_cat(x): return x[0].isupper()\n",
        "dls = ImageDataLoaders.from_name_func(\n",
        "    path, get_image_files(path), valid_pct=0.2, seed=42,\n",
        "    label_func=is_cat, item_tfms=Resize(224))\n",
        "\n",
        "learn = cnn_learner(dls, resnet34, metrics=error_rate)\n",
        "learn.fine_tune(1)"
      ],
      "execution_count": 0,
      "outputs": []
    },
    {
      "cell_type": "markdown",
      "metadata": {
        "id": "c5sB9EcbvxPa",
        "colab_type": "text"
      },
      "source": [
        "### Sidebar: This book was written in Jupyter Notebooks"
      ]
    },
    {
      "cell_type": "code",
      "metadata": {
        "id": "lf_sQGysvxPc",
        "colab_type": "code",
        "colab": {}
      },
      "source": [
        "1+1"
      ],
      "execution_count": 0,
      "outputs": []
    },
    {
      "cell_type": "code",
      "metadata": {
        "id": "vY95uwMDvxPh",
        "colab_type": "code",
        "colab": {}
      },
      "source": [
        "img = PILImage.create('images/chapter1_cat_example.jpg')\n",
        "img.to_thumb(192)"
      ],
      "execution_count": 0,
      "outputs": []
    },
    {
      "cell_type": "markdown",
      "metadata": {
        "id": "nV3irz8TvxPl",
        "colab_type": "text"
      },
      "source": [
        "### End sidebar"
      ]
    },
    {
      "cell_type": "code",
      "metadata": {
        "id": "y41Z-azevxPm",
        "colab_type": "code",
        "colab": {}
      },
      "source": [
        "uploader = widgets.FileUpload()\n",
        "uploader"
      ],
      "execution_count": 0,
      "outputs": []
    },
    {
      "cell_type": "code",
      "metadata": {
        "hide_input": true,
        "id": "9zM8mJBEvxPq",
        "colab_type": "code",
        "colab": {}
      },
      "source": [
        "#hide\n",
        "# For the book, we can't actually click an upload button, so we fake it\n",
        "uploader = SimpleNamespace(data = ['images/chapter1_cat_example.jpg'])"
      ],
      "execution_count": 0,
      "outputs": []
    },
    {
      "cell_type": "code",
      "metadata": {
        "id": "k8TCrDZ0vxPv",
        "colab_type": "code",
        "colab": {}
      },
      "source": [
        "img = PILImage.create(uploader.data[0])\n",
        "is_cat,_,probs = learn.predict(img)\n",
        "print(f\"Is this a cat?: {is_cat}.\")\n",
        "print(f\"Probability it's a cat: {probs[1].item():.6f}\")"
      ],
      "execution_count": 0,
      "outputs": []
    },
    {
      "cell_type": "markdown",
      "metadata": {
        "id": "UgHTISN4vxPz",
        "colab_type": "text"
      },
      "source": [
        "### What is machine learning?"
      ]
    },
    {
      "cell_type": "code",
      "metadata": {
        "hide_input": false,
        "id": "dasin18zvxP0",
        "colab_type": "code",
        "colab": {}
      },
      "source": [
        "gv('''program[shape=box3d width=1 height=0.7]\n",
        "inputs->program->results''')"
      ],
      "execution_count": 0,
      "outputs": []
    },
    {
      "cell_type": "code",
      "metadata": {
        "hide_input": true,
        "id": "NIACFY4EvxP4",
        "colab_type": "code",
        "colab": {}
      },
      "source": [
        "gv('''model[shape=box3d width=1 height=0.7]\n",
        "inputs->model->results; weights->model''')"
      ],
      "execution_count": 0,
      "outputs": []
    },
    {
      "cell_type": "code",
      "metadata": {
        "hide_input": true,
        "id": "JQWM28CgvxP8",
        "colab_type": "code",
        "colab": {}
      },
      "source": [
        "gv('''ordering=in\n",
        "model[shape=box3d width=1 height=0.7]\n",
        "inputs->model->results; weights->model; results->performance\n",
        "performance->weights[constraint=false label=update]''')"
      ],
      "execution_count": 0,
      "outputs": []
    },
    {
      "cell_type": "code",
      "metadata": {
        "hide_input": true,
        "id": "cGwP1bAyvxQA",
        "colab_type": "code",
        "colab": {}
      },
      "source": [
        "gv('''model[shape=box3d width=1 height=0.7]\n",
        "inputs->model->results''')"
      ],
      "execution_count": 0,
      "outputs": []
    },
    {
      "cell_type": "markdown",
      "metadata": {
        "id": "dQJ40QgkvxQF",
        "colab_type": "text"
      },
      "source": [
        "### What is a neural network?"
      ]
    },
    {
      "cell_type": "markdown",
      "metadata": {
        "id": "TRDG392RvxQH",
        "colab_type": "text"
      },
      "source": [
        "#### A bit of deep learning jargon"
      ]
    },
    {
      "cell_type": "code",
      "metadata": {
        "hide_input": true,
        "id": "9-kXtPL7vxQI",
        "colab_type": "code",
        "colab": {}
      },
      "source": [
        "gv('''ordering=in\n",
        "model[shape=box3d width=1 height=0.7 label=architecture]\n",
        "inputs->model->predictions; parameters->model; labels->loss; predictions->loss\n",
        "loss->parameters[constraint=false label=update]''')"
      ],
      "execution_count": 0,
      "outputs": []
    },
    {
      "cell_type": "markdown",
      "metadata": {
        "id": "3aQ1QopYvxQM",
        "colab_type": "text"
      },
      "source": [
        "### Limitations inherent to machine learning\n",
        "\n",
        "From this picture we can now see some fundamental things about training a deep learning model:\n",
        "\n",
        "- A model cannot be created without data ;\n",
        "- A model can only learn to operate on the patterns seen in the input data used to train it ;\n",
        "- This learning approach only creates *predictions*, not recommended *actions* ;\n",
        "- It's not enough to just have examples of input data; we need *labels* for that data too (e.g. pictures of dogs and cats aren't enough to train a model; we need a label for each one, saying which ones are dogs, and which are cats).\n",
        "\n",
        "Generally speaking, we've seen that most organizations that think they don't have enough data, actually mean they don't have enough *labeled* data. If any organization is interested in doing something in practice with a model, then presumably they have some inputs they plan to run their model against. And presumably they've been doing that some other way for a while (e.g. manually, or with some heuristic program), so they have data from those processes! For instance, a radiology practice will almost certainly have an archive of medical scans (since they need to be able to check how their patients are progressing over time), but those scans may not have structured labels containing a list of diagnoses or interventions (since radiologists generally create free text natural language reports, not structured data). We'll be discussing labeling approaches a lot in this book, since it's such an important issue in practice.\n",
        "\n",
        "Since these kinds of machine learning models can only make *predictions* (i.e. attempt to replicate labels), this can result in a significant gap between organizational goals and model capabilities. For instance, in this book you'll learn how to create a *recommendation system* that can predict what products a user might purchase. This is often used in e-commerce, such as to customize products shown on a home page, by showing the highest-ranked items. But such a model is generally created by looking at a user and their buying history (*inputs*) and what they went on to buy or look at (*labels*), which means that the model is likely to tell you about products they already have, or already know about, rather than new products that they are most likely to be interested in hearing about. That's very different to what, say, an expert at your local bookseller might do, where they ask questions to figure out your taste, and then tell you about authors or series that you've never heard of before."
      ]
    },
    {
      "cell_type": "markdown",
      "metadata": {
        "id": "lJG7on5ivxQN",
        "colab_type": "text"
      },
      "source": [
        "### How our image recognizer works"
      ]
    },
    {
      "cell_type": "markdown",
      "metadata": {
        "id": "Ib5iKmUWvxQP",
        "colab_type": "text"
      },
      "source": [
        "### What our image recognizer learned"
      ]
    },
    {
      "cell_type": "markdown",
      "metadata": {
        "id": "naXvxhQCvxQQ",
        "colab_type": "text"
      },
      "source": [
        "### Image recognizers can tackle non-image tasks"
      ]
    },
    {
      "cell_type": "markdown",
      "metadata": {
        "id": "HzUKvVA9vxQR",
        "colab_type": "text"
      },
      "source": [
        "### Jargon recap"
      ]
    },
    {
      "cell_type": "markdown",
      "metadata": {
        "id": "KIGcs4qZvxQS",
        "colab_type": "text"
      },
      "source": [
        "## Deep learning is not just for image classification"
      ]
    },
    {
      "cell_type": "code",
      "metadata": {
        "id": "mRsxqlevvxQU",
        "colab_type": "code",
        "colab": {}
      },
      "source": [
        "path = untar_data(URLs.CAMVID_TINY)\n",
        "dls = SegmentationDataLoaders.from_label_func(\n",
        "    path, bs=8, fnames = get_image_files(path/\"images\"),\n",
        "    label_func = lambda o: path/'labels'/f'{o.stem}_P{o.suffix}',\n",
        "    codes = np.loadtxt(path/'codes.txt', dtype=str)\n",
        ")\n",
        "\n",
        "learn = unet_learner(dls, resnet34)\n",
        "learn.fine_tune(8)"
      ],
      "execution_count": 0,
      "outputs": []
    },
    {
      "cell_type": "code",
      "metadata": {
        "id": "aEx1_HIVvxQc",
        "colab_type": "code",
        "colab": {}
      },
      "source": [
        "learn.show_results(max_n=6, figsize=(7,8))"
      ],
      "execution_count": 0,
      "outputs": []
    },
    {
      "cell_type": "code",
      "metadata": {
        "scrolled": true,
        "id": "f7AkRpjAvxQh",
        "colab_type": "code",
        "colab": {}
      },
      "source": [
        "from fastai2.text.all import *\n",
        "\n",
        "dls = TextDataLoaders.from_folder(untar_data(URLs.IMDB), valid='test')\n",
        "learn = text_classifier_learner(dls, AWD_LSTM, drop_mult=0.5, metrics=accuracy)\n",
        "learn.fine_tune(4, 1e-2)"
      ],
      "execution_count": 0,
      "outputs": []
    },
    {
      "cell_type": "markdown",
      "metadata": {
        "id": "hY9jQdwhvxQl",
        "colab_type": "text"
      },
      "source": [
        "If you hit a \"CUDA out of memory error\" after running this cell, click on the menu Kernel, then restart. Instead of executing the cell above, copy and paste the following code in it:\n",
        "\n",
        "```\n",
        "from fastai2.text.all import *\n",
        "\n",
        "dls = TextDataLoaders.from_folder(untar_data(URLs.IMDB), valid='test', bs=32)\n",
        "learn = text_classifier_learner(dls, AWD_LSTM, drop_mult=0.5, metrics=accuracy)\n",
        "learn.fine_tune(4, 1e-2)\n",
        "```\n",
        "\n",
        "This reduces the batch size to 32 (we will explain this later). If you keep hitting the same error, change 32 by 16."
      ]
    },
    {
      "cell_type": "code",
      "metadata": {
        "id": "829zg1h_vxQl",
        "colab_type": "code",
        "colab": {}
      },
      "source": [
        "learn.predict(\"I really liked that movie!\")"
      ],
      "execution_count": 0,
      "outputs": []
    },
    {
      "cell_type": "markdown",
      "metadata": {
        "id": "ssjDRPd9vxQo",
        "colab_type": "text"
      },
      "source": [
        "### Sidebar: The order matter"
      ]
    },
    {
      "cell_type": "markdown",
      "metadata": {
        "id": "fHz57ML6vxQp",
        "colab_type": "text"
      },
      "source": [
        "### End sidebar"
      ]
    },
    {
      "cell_type": "code",
      "metadata": {
        "id": "YRKUGxEFvxQq",
        "colab_type": "code",
        "colab": {}
      },
      "source": [
        "from fastai2.tabular.all import *\n",
        "path = untar_data(URLs.ADULT_SAMPLE)\n",
        "\n",
        "dls = TabularDataLoaders.from_csv(path/'adult.csv', path, y_names=\"salary\",\n",
        "    cat_names = ['workclass', 'education', 'marital-status', 'occupation',\n",
        "                 'relationship', 'race'],\n",
        "    cont_names = ['age', 'fnlwgt', 'education-num'],\n",
        "    procs = [Categorify, FillMissing, Normalize])\n",
        "\n",
        "learn = tabular_learner(dls, metrics=accuracy)"
      ],
      "execution_count": 0,
      "outputs": []
    },
    {
      "cell_type": "code",
      "metadata": {
        "id": "Rbyfe6A6vxQt",
        "colab_type": "code",
        "colab": {}
      },
      "source": [
        "learn.fit_one_cycle(3)"
      ],
      "execution_count": 0,
      "outputs": []
    },
    {
      "cell_type": "code",
      "metadata": {
        "id": "3NlRRVrIvxQx",
        "colab_type": "code",
        "colab": {}
      },
      "source": [
        "from fastai2.collab import *\n",
        "path = untar_data(URLs.ML_SAMPLE)\n",
        "dls = CollabDataLoaders.from_csv(path/'ratings.csv')\n",
        "learn = collab_learner(dls, y_range=(0.5,5.5))\n",
        "learn.fine_tune(10)"
      ],
      "execution_count": 0,
      "outputs": []
    },
    {
      "cell_type": "code",
      "metadata": {
        "id": "rGutHNVTvxQ0",
        "colab_type": "code",
        "colab": {}
      },
      "source": [
        "learn.show_results()"
      ],
      "execution_count": 0,
      "outputs": []
    },
    {
      "cell_type": "markdown",
      "metadata": {
        "id": "LbY8A1tWvxQ3",
        "colab_type": "text"
      },
      "source": [
        "### Sidebar: Datasets: food for models"
      ]
    },
    {
      "cell_type": "markdown",
      "metadata": {
        "id": "NGvqHX1xvxQ3",
        "colab_type": "text"
      },
      "source": [
        "### End sidebar"
      ]
    },
    {
      "cell_type": "markdown",
      "metadata": {
        "id": "DwcMl2ylvxQ4",
        "colab_type": "text"
      },
      "source": [
        "## Validation sets and test sets"
      ]
    },
    {
      "cell_type": "markdown",
      "metadata": {
        "id": "GsZdFj75vxQ5",
        "colab_type": "text"
      },
      "source": [
        "### Use judgment in defining test sets"
      ]
    },
    {
      "cell_type": "markdown",
      "metadata": {
        "id": "mYTWYx7XvxQ6",
        "colab_type": "text"
      },
      "source": [
        "## A _Choose Your Own Adventure_ moment"
      ]
    },
    {
      "cell_type": "markdown",
      "metadata": {
        "id": "ruYtGCj1vxQ7",
        "colab_type": "text"
      },
      "source": [
        "## Questionnaire"
      ]
    },
    {
      "cell_type": "markdown",
      "metadata": {
        "id": "ZXZzbCgJvxQ8",
        "colab_type": "text"
      },
      "source": [
        "It can be hard to know in pages and pages of prose what are the key things you really need to focus on and remember. So we've prepared a list of questions and suggested steps to complete at the end of each chapter. All the answers are in the text of the chapter, so if you're not sure about anything here, re-read that part of the text and make sure you understand it. Answers to all these questions are also available on the [book website](https://book.fast.ai). You can also visit [the forums](https://forums.fast.ai) if you get stuck to get help from other folks studying this material."
      ]
    },
    {
      "cell_type": "markdown",
      "metadata": {
        "id": "DZfZg_6MvxQ-",
        "colab_type": "text"
      },
      "source": [
        "1. Do you need these for deep learning?\n",
        "   - Lots of math T / F\n",
        "   - Lots of data T / F\n",
        "   - Lots of expensive computers T / F\n",
        "   - A PhD T / F\n",
        "1. Name five areas where deep learning is now the best in the world.\n",
        "1. What was the name of the first device that was based on the principle of the artificial neuron?\n",
        "1. Based on the book of the same name, what are the requirements for \"Parallel Distributed Processing\"?\n",
        "1. What were the two theoretical misunderstandings that held back the field of neural networks?\n",
        "1. What is a GPU?\n",
        "1. Open a notebook and execute a cell containing: `1+1`. What happens?\n",
        "1. Follow through each cell of the stripped version of the notebook for this chapter. Before executing each cell, guess what will happen.\n",
        "1. Complete the Jupyter Notebook online appendix.\n",
        "1. Why is it hard to use a traditional computer program to recognize images in a photo?\n",
        "1. What did Samuel mean by \"Weight Assignment\"?\n",
        "1. What term do we normally use in deep learning for what Samuel called \"Weights\"?\n",
        "1. Draw a picture that summarizes Arthur Samuel's view of a machine learning model\n",
        "1. Why is it hard to understand why a deep learning model makes a particular prediction?\n",
        "1. What is the name of the theorem that a neural network can solve any mathematical problem to any level of accuracy?\n",
        "1. What do you need in order to train a model?\n",
        "1. How could a feedback loop impact the rollout of a predictive policing model?\n",
        "1. Do we always have to use 224x224 pixel images with the cat recognition model?\n",
        "1. What is the difference between classification and regression?\n",
        "1. What is a validation set? What is a test set? Why do we need them?\n",
        "1. What will fastai do if you don't provide a validation set?\n",
        "1. Can we always use a random sample for a validation set? Why or why not?\n",
        "1. What is overfitting? Provide an example.\n",
        "1. What is a metric? How does it differ to \"loss\"?\n",
        "1. How can pretrained models help?\n",
        "1. What is the \"head\" of a model?\n",
        "1. What kinds of features do the early layers of a CNN find? How about the later layers?\n",
        "1. Are image models only useful for photos?\n",
        "1. What is an \"architecture\"?\n",
        "1. What is segmentation?\n",
        "1. What is `y_range` used for? When do we need it?\n",
        "1. What are \"hyperparameters\"?\n",
        "1. What's the best way to avoid failures when using AI in an organization?"
      ]
    },
    {
      "cell_type": "markdown",
      "metadata": {
        "id": "RTwfm_2XvxQ_",
        "colab_type": "text"
      },
      "source": [
        "### Further research"
      ]
    },
    {
      "cell_type": "markdown",
      "metadata": {
        "id": "6MJZBPpsvxRA",
        "colab_type": "text"
      },
      "source": [
        "Each chapter also has a \"further research\" with questions that aren't fully answered in the text, or include more advanced assignments. Answers to these questions aren't on the book website--you'll need to do your own research!"
      ]
    },
    {
      "cell_type": "markdown",
      "metadata": {
        "id": "gHU_wKI5vxRB",
        "colab_type": "text"
      },
      "source": [
        "1. Why is a GPU useful for deep learning? How is a CPU different, and why is it less effective for deep learning?\n",
        "1. Try to think of three areas where feedback loops might impact use of machine learning. See if you can find documented examples of that happening in practice."
      ]
    }
  ]
}