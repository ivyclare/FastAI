{
 "cells": [
  {
   "cell_type": "code",
   "execution_count": 1,
   "metadata": {},
   "outputs": [],
   "source": [
    "#from ipyupload import FileUpload  #https://gitlab.com/oscar6echo/ipyupload\n",
    "from ipywidgets import HBox,VBox,widgets,Button,Checkbox,Dropdown,Layout,Box,Output,Label,FileUpload\n",
    "from fastai2.vision.all import *\n",
    "\n",
    "# !jupyter nbextension enable --py widgetsnbextension --sys-prefix\n",
    "# !jupyter labextension install ipyupload\n",
    "#!jupyter nbextension enable ipyupload --py --sys-prefix"
   ]
  },
  {
   "cell_type": "code",
   "execution_count": 2,
   "metadata": {},
   "outputs": [],
   "source": [
    "# btn_upload = widgets.FileUpload()\n",
    "# btn_upload\n",
    "\n",
    "# w = FileUpload(accept='',\n",
    "#                multiple=True, \n",
    "#                disabled=False,\n",
    "#                style_button='color: darkblue; background-color: lightsalmon; width: 180px;',\n",
    "#                compress_level=9\n",
    "#               )\n",
    "# w\n",
    "\n",
    "# btn = FileUpload(style_button='color: white; background-color: red; width: 180px;')\n",
    "# btn"
   ]
  },
  {
   "cell_type": "code",
   "execution_count": 3,
   "metadata": {},
   "outputs": [],
   "source": [
    "# load trained model to be used for prediction\n",
    "path = Path()\n",
    "learn_inf = load_learner('hairClassifier.pkl', cpu=True)\n",
    "\n",
    "# button to upload image\n",
    "btn_upload = widgets.FileUpload(button_style='danger')\n",
    "# btn_upload = FileUpload(style_button='color: white; background-color: crimson; width: 180px;')\n",
    "btn_upload.style.button_color = 'crimson'\n",
    "\n",
    "\n",
    "#button to run test\n",
    "btn_run = widgets.Button(description='Classify',\n",
    "                         #button_style='danger',\n",
    "                         #style = 'background-color:',\n",
    "                         tooltip='Click to classify',\n",
    "                         layout = Layout(width ='200px'))\n",
    "btn_run.style.color = 'white'\n",
    "\n",
    "# Uploaded Image\n",
    "out_pl = widgets.Output()\n",
    "image_placeholder = SimpleNamespace(data = ['afro.png'])\n",
    "img = PILImage.create(image_placeholder.data[-1])\n",
    "with out_pl: display(img.to_thumb(400,300))\n",
    "\n",
    "# Prediction\n",
    "label_pred = widgets.Label()"
   ]
  },
  {
   "cell_type": "code",
   "execution_count": 4,
   "metadata": {},
   "outputs": [],
   "source": [
    "# def on_click(change):\n",
    "#     #get image from button\n",
    "#     img = PILImage.create(btn_upload.data[-1])\n",
    "#     out_pl.clear_output()\n",
    "#     with out_pl: display(img.to_thumb(128,128))\n",
    "# #     pred, pred_idx, probs = learn_inf.predict(img)\n",
    "# #     label_pred.value = f'Prediction:{pred}; Probability:{probs[pred_idx]:.04f}'\n",
    "\n",
    "\n",
    "def on_click_classify(change):\n",
    "    #get image from button\n",
    "    #image_placeholder.layout = widgets.Layout(visibility = 'hidden')\n",
    "    img = PILImage.create(btn_upload.data[-1])\n",
    "    out_pl.clear_output()\n",
    "    with out_pl: display(img.to_thumb(400,300))\n",
    "    pred, pred_idx, probs = learn_inf.predict(img)\n",
    "    label_pred.value = f'Prediction:{pred}; Probability:{probs[pred_idx]:.04f}'"
   ]
  },
  {
   "cell_type": "code",
   "execution_count": 5,
   "metadata": {},
   "outputs": [],
   "source": [
    "btn_upload.observe(on_click_classify, names=['data'])\n",
    "#btn_run.on_click(on_click_classify)"
   ]
  },
  {
   "cell_type": "code",
   "execution_count": 9,
   "metadata": {},
   "outputs": [
    {
     "data": {
      "application/vnd.jupyter.widget-view+json": {
       "model_id": "dd12846f68364cdc80d27543c03a15a6",
       "version_major": 2,
       "version_minor": 0
      },
      "text/plain": [
       "VBox(children=(HTML(value='<font color=crimson><font size=15><font family=cursive><b> Sistas </font>'),), layo…"
      ]
     },
     "metadata": {},
     "output_type": "display_data"
    },
    {
     "data": {
      "application/vnd.jupyter.widget-view+json": {
       "model_id": "f0c757143ba14ce696c53fd6a534e78b",
       "version_major": 2,
       "version_minor": 0
      },
      "text/plain": [
       "VBox(children=(HTML(value='<font color=black><font size=5><i> What hairstyle are you wearing today? </font>'),…"
      ]
     },
     "metadata": {},
     "output_type": "display_data"
    },
    {
     "data": {
      "application/vnd.jupyter.widget-view+json": {
       "model_id": "77ecc2ef8d4443e483f7bd146701ca63",
       "version_major": 2,
       "version_minor": 0
      },
      "text/plain": [
       "HBox(children=(VBox(children=(FileUpload(value={}, button_style='danger', description='Upload', style=ButtonSt…"
      ]
     },
     "metadata": {},
     "output_type": "display_data"
    },
    {
     "data": {
      "application/vnd.jupyter.widget-view+json": {
       "model_id": "340c3f54babb4760a86d5c3231fd7af9",
       "version_major": 2,
       "version_minor": 0
      },
      "text/plain": [
       "HBox(children=(VBox(children=(Output(outputs=({'output_type': 'display_data', 'data': {'text/plain': '<PIL.Ima…"
      ]
     },
     "metadata": {},
     "output_type": "display_data"
    },
    {
     "data": {
      "text/html": [],
      "text/plain": [
       "<IPython.core.display.HTML object>"
      ]
     },
     "metadata": {},
     "output_type": "display_data"
    }
   ],
   "source": [
    "#display(VBox([widgets.Label('What hairstyle is this?'), btn_upload, btn_run, out_pl, label_pred]))\n",
    "header_layout = widgets.Layout(display='flex',\n",
    "                justify_content = 'center',\n",
    "                align_items='center',\n",
    "                margin='10px 10px 10px 10px')\n",
    "\n",
    "button_layout = widgets.Layout(margin='50px 10px 10px 5px')\n",
    "\n",
    "box_layout = widgets.Layout(display='flex',\n",
    "                flex_flow='column',\n",
    "                justify_content = 'center',\n",
    "                align_items='center',\n",
    "                width='80%',\n",
    "                margin='30px 150px 100px 80px')\n",
    "\n",
    "#box = widgets.HBox(children=[btn],layout=box_layout)\n",
    "# display(VBox([widgets.Label('What hairstyle is this?'), btn_upload, btn_run, out_pl, label_pred],layout=box_layout))\n",
    "\n",
    "header1 = VBox([widgets.HTML(value=\"<font color=crimson><font size=15><font family=cursive><b> Sistas </font>\")],layout=header_layout)\n",
    "header2 = VBox([widgets.HTML(value=\"<font color=black><font size=5><i> What hairstyle are you wearing today? </font>\")],layout=header_layout)\n",
    "\n",
    "\n",
    "vbox1 = VBox([btn_upload],layout=button_layout)\n",
    "vbox2 = VBox([out_pl],layout=box_layout)\n",
    "\n",
    "vbox3 = VBox([label_pred],layout=box_layout)\n",
    "# vbox2 = VBox([btn_upload])\n",
    "# vbox3 = VBox([btn_run, out_pl, label_pred])\n",
    "\n",
    "display(header1)\n",
    "display(header2)\n",
    "\n",
    "display(HBox([vbox1]))\n",
    "\n",
    "display(HBox([vbox2,vbox3]))\n",
    "\n"
   ]
  },
  {
   "cell_type": "code",
   "execution_count": 12,
   "metadata": {},
   "outputs": [],
   "source": [
    "# btn_upload.style.keys\n",
    "#btn_run.style.button_color = 'lightgreen'\n"
   ]
  },
  {
   "cell_type": "code",
   "execution_count": 8,
   "metadata": {},
   "outputs": [],
   "source": [
    "# layout_hidden  = widgets.Layout(visibility = 'hidden')\n",
    "# layout_visible = widgets.Layout(visibility = 'visible')\n",
    "\n",
    "# ########\n",
    "# def visible_txt(b):\n",
    "#     text_box.layout = layout_visible\n",
    "\n",
    "# def hidden_txt(b):\n",
    "#     text_box.layout = layout_hidden\n",
    "\n",
    "# # btn_visible.on_click(visible_txt)\n",
    "# # btn_hidden.on_click(hidden_txt)"
   ]
  },
  {
   "cell_type": "code",
   "execution_count": 10,
   "metadata": {},
   "outputs": [],
   "source": [
    "# def on_click(change):\n",
    "#     img = PILImage.create(btn_upload.data[-1])\n",
    "#     out_pl.clear_output()\n",
    "#     with out_pl: display(img.to_thumb(128,128))\n",
    "#     pred,pred_idx,probs = learn_inf.predict(img)\n",
    "#     label_pred.value = f'Prediction: {pred}; Probability: {probs[pred_idx]:.04f}'\n",
    "    \n",
    "# btns_upload.observe(on_click, names=['data'])\n",
    "\n",
    "# display(VBox([widgets.Label('Select your bear!'), btns_upload, out_pl, label_pred]))\n"
   ]
  },
  {
   "cell_type": "code",
   "execution_count": null,
   "metadata": {},
   "outputs": [],
   "source": []
  }
 ],
 "metadata": {
  "kernelspec": {
   "display_name": "Python [conda env:my_env] *",
   "language": "python",
   "name": "conda-env-my_env-py"
  },
  "language_info": {
   "codemirror_mode": {
    "name": "ipython",
    "version": 3
   },
   "file_extension": ".py",
   "mimetype": "text/x-python",
   "name": "python",
   "nbconvert_exporter": "python",
   "pygments_lexer": "ipython3",
   "version": "3.7.3"
  }
 },
 "nbformat": 4,
 "nbformat_minor": 2
}
