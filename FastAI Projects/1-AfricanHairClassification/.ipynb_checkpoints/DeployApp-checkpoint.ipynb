{
 "cells": [
  {
   "cell_type": "code",
   "execution_count": 1,
   "metadata": {},
   "outputs": [
    {
     "name": "stdout",
     "output_type": "stream",
     "text": [
      "Enabling notebook extension ipyupload/extension...\r\n",
      "      - Validating: \u001b[32mOK\u001b[0m\r\n"
     ]
    }
   ],
   "source": [
    "# import ipywidgets as widget\n",
    "# from ipywidgets import interact\n",
    "from ipyupload import FileUpload\n",
    "from ipywidgets import HBox,VBox,widgets,Button,Checkbox,Dropdown,Layout,Box,Output,Label\n",
    "from fastai2.vision.all import *\n",
    "\n",
    "# !jupyter nbextension enable --py widgetsnbextension --sys-prefix\n",
    "# !jupyter labextension install ipyupload\n",
    "!jupyter nbextension enable ipyupload --py --sys-prefix"
   ]
  },
  {
   "cell_type": "code",
   "execution_count": 2,
   "metadata": {},
   "outputs": [
    {
     "data": {
      "application/vnd.jupyter.widget-view+json": {
       "model_id": "7b775ad4832e4e34b01a5f6c453cb6b8",
       "version_major": 2,
       "version_minor": 0
      },
      "text/plain": [
       "FileUpload(compress_level=9, multiple=True, style_button='color: darkblue; background-color: lightsalmon; widt…"
      ]
     },
     "metadata": {},
     "output_type": "display_data"
    }
   ],
   "source": [
    "# btn_upload = widgets.FileUpload()\n",
    "# btn_upload\n",
    "\n",
    "w = FileUpload(accept='',\n",
    "               multiple=True, \n",
    "               disabled=False,\n",
    "               style_button='color: darkblue; background-color: lightsalmon; width: 180px;',\n",
    "               compress_level=9\n",
    "              )\n",
    "w"
   ]
  },
  {
   "cell_type": "code",
   "execution_count": 7,
   "metadata": {},
   "outputs": [
    {
     "data": {
      "application/vnd.jupyter.widget-view+json": {
       "model_id": "2fbd196a86e44a4b9b4fa1583802e3fa",
       "version_major": 2,
       "version_minor": 0
      },
      "text/plain": [
       "FileUpload(value={}, description='Upload')"
      ]
     },
     "metadata": {},
     "output_type": "display_data"
    }
   ],
   "source": [
    "# load trained model to be used for prediction\n",
    "path = Path()\n",
    "learn_inf = load_learner('hairClassifier.pkl', cpu=True)\n",
    "\n",
    "# button to upload image\n",
    "# btn_upload = widgets.FileUpload(button_style='danger')\n",
    "btn_upload = widgets.FileUpload(style_button='color: darkblue; background-color:lightsalmon;')\n",
    "\n",
    "\n",
    "# btn_upload.style.button_color = 'lightgreen'\n",
    "\n",
    "#button to run test\n",
    "btn_run = widgets.Button(description='Classify',\n",
    "                         button_style='danger',\n",
    "                         tooltip='Click to classify',\n",
    "                         layout = Layout(width ='200px'))\n",
    "\n",
    "out_pl = widgets.Output()\n",
    "label_pred = widgets.Label()\n",
    "\n",
    "\n",
    "# file = open(\"images/WidgetArch.png\", \"rb\")\n",
    "# image = file.read()\n",
    "# image_placeholder = widgets.Image(value=image,\n",
    "#                                   format='png',\n",
    "#                                   width=300,\n",
    "#                                   height=400\n",
    "#                                  )\n",
    "#btn_run\n",
    "btn_upload"
   ]
  },
  {
   "cell_type": "code",
   "execution_count": 15,
   "metadata": {},
   "outputs": [],
   "source": [
    "def on_click(change):\n",
    "    #get image from button\n",
    "    img = PILImage.create(btn_upload.data[-1])\n",
    "    out_pl.clear_output()\n",
    "    with out_pl: display(img.to_thumb(128,128))\n",
    "#     pred, pred_idx, probs = learn_inf.predict(img)\n",
    "#     label_pred.value = f'Prediction:{pred}; Probability:{probs[pred_idx]:.04f}'\n",
    "\n",
    "\n",
    "def on_click_classify(change):\n",
    "    #get image from button\n",
    "    img = PILImage.create(btn_upload.data[-1])\n",
    "#     out_pl.clear_output()\n",
    "#     with out_pl: display(img.to_thumb(128,128))\n",
    "    pred, pred_idx, probs = learn_inf.predict(img)\n",
    "    label_pred.value = f'Prediction:{pred}; Probability:{probs[pred_idx]:.04f}'"
   ]
  },
  {
   "cell_type": "code",
   "execution_count": 16,
   "metadata": {},
   "outputs": [],
   "source": [
    "btn_upload.observe(on_click, names=['data'])\n",
    "btn_run.on_click(on_click_classify)"
   ]
  },
  {
   "cell_type": "code",
   "execution_count": 17,
   "metadata": {},
   "outputs": [
    {
     "data": {
      "application/vnd.jupyter.widget-view+json": {
       "model_id": "7a41d3c06a0b4f5ba1cb2352a79f81ca",
       "version_major": 2,
       "version_minor": 0
      },
      "text/plain": [
       "HBox(children=(VBox(children=(HTML(value='<font color=blue><font size=5><b>What hairstyle is this?</font>'),))…"
      ]
     },
     "metadata": {},
     "output_type": "display_data"
    },
    {
     "data": {
      "application/vnd.jupyter.widget-view+json": {
       "model_id": "a9632468dcd746b1a585a98910727b38",
       "version_major": 2,
       "version_minor": 0
      },
      "text/plain": [
       "Button(button_style='danger', description='Classify', layout=Layout(width='200px'), style=ButtonStyle(), toolt…"
      ]
     },
     "metadata": {},
     "output_type": "display_data"
    },
    {
     "data": {
      "application/vnd.jupyter.widget-view+json": {
       "model_id": "4157ec59109a4feba773bf2950e0a469",
       "version_major": 2,
       "version_minor": 0
      },
      "text/plain": [
       "HBox(children=(VBox(children=(FileUpload(value={}, description='Upload'),)), VBox(children=(Button(button_styl…"
      ]
     },
     "metadata": {},
     "output_type": "display_data"
    }
   ],
   "source": [
    "#display(VBox([widgets.Label('What hairstyle is this?'), btn_upload, btn_run, out_pl, label_pred]))\n",
    "\n",
    "box_layout = widgets.Layout(display='flex',\n",
    "                flex_flow='column',\n",
    "                justify_content = 'center',\n",
    "                align_items='center',\n",
    "                width='80%',\n",
    "                margin='500px 150px 100px 80px')\n",
    "\n",
    "#box = widgets.HBox(children=[btn],layout=box_layout)\n",
    "# display(VBox([widgets.Label('What hairstyle is this?'), btn_upload, btn_run, out_pl, label_pred],layout=box_layout))\n",
    "\n",
    "vbox1 = VBox([widgets.HTML(value=\"<font color=blue><font size=5><b>What hairstyle is this?</font>\")])\n",
    "# vbox2 = VBox([btn_upload],layout=box_layout)\n",
    "# vbox3 = VBox([btn_run, out_pl, label_pred],layout=box_layout)\n",
    "vbox2 = VBox([btn_upload])\n",
    "vbox3 = VBox([btn_run, out_pl, label_pred])\n",
    "\n",
    "display(HBox([vbox1]))\n",
    "display(btn_run)\n",
    "\n",
    "display(HBox([vbox2,vbox3]))\n",
    "\n"
   ]
  },
  {
   "cell_type": "code",
   "execution_count": 130,
   "metadata": {},
   "outputs": [],
   "source": [
    "#btn_upload.style.keys\n",
    "#btn_run.style.button_color = 'lightgreen'\n"
   ]
  },
  {
   "cell_type": "code",
   "execution_count": 131,
   "metadata": {},
   "outputs": [],
   "source": [
    "# layout_hidden  = widgets.Layout(visibility = 'hidden')\n",
    "# layout_visible = widgets.Layout(visibility = 'visible')\n",
    "\n",
    "# ########\n",
    "# def visible_txt(b):\n",
    "#     text_box.layout = layout_visible\n",
    "\n",
    "# def hidden_txt(b):\n",
    "#     text_box.layout = layout_hidden\n",
    "\n",
    "# btn_visible.on_click(visible_txt)\n",
    "# btn_hidden.on_click(hidden_txt)"
   ]
  },
  {
   "cell_type": "code",
   "execution_count": null,
   "metadata": {},
   "outputs": [],
   "source": []
  }
 ],
 "metadata": {
  "kernelspec": {
   "display_name": "Python [conda env:my_env] *",
   "language": "python",
   "name": "conda-env-my_env-py"
  },
  "language_info": {
   "codemirror_mode": {
    "name": "ipython",
    "version": 3
   },
   "file_extension": ".py",
   "mimetype": "text/x-python",
   "name": "python",
   "nbconvert_exporter": "python",
   "pygments_lexer": "ipython3",
   "version": "3.7.3"
  }
 },
 "nbformat": 4,
 "nbformat_minor": 2
}
