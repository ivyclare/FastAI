{
 "cells": [
  {
   "cell_type": "code",
   "execution_count": 1,
   "metadata": {},
   "outputs": [],
   "source": [
    "#from ipyupload import FileUpload  #https://gitlab.com/oscar6echo/ipyupload\n",
    "from ipywidgets import HBox,VBox,widgets,Button,Checkbox,Dropdown,Layout,Box,Output,Label,FileUpload,IntSlider\n",
    "from fastai2.vision.all import *\n",
    "\n",
    "# !jupyter nbextension enable --py widgetsnbextension --sys-prefix\n",
    "# !jupyter labextension install ipyupload\n",
    "#!jupyter nbextension enable ipyupload --py --sys-prefix"
   ]
  },
  {
   "cell_type": "code",
   "execution_count": 2,
   "metadata": {},
   "outputs": [],
   "source": [
    "# btn_upload = widgets.FileUpload()\n",
    "# btn_upload\n",
    "\n",
    "# w = FileUpload(accept='',\n",
    "#                multiple=True, \n",
    "#                disabled=False,\n",
    "#                style_button='color: darkblue; background-color: lightsalmon; width: 180px;',\n",
    "#                compress_level=9\n",
    "#               )\n",
    "# w\n",
    "\n",
    "# btn = FileUpload(width=\"10px\")\n",
    "# btn\n",
    "\n",
    "# %%html\n",
    "# <style>.myclass { color:red ; font-size:200%}\n"
   ]
  },
  {
   "cell_type": "code",
   "execution_count": 3,
   "metadata": {},
   "outputs": [],
   "source": [
    "# load trained model to be used for prediction\n",
    "path = Path()\n",
    "learn_inf = load_learner('export.pkl', cpu=True)\n",
    "\n",
    "# <font color=crimson><font size=15><font family=cursive><b> Upload Image... </font>\n",
    "\n",
    "# button to upload image\n",
    "btn_upload = widgets.FileUpload()\n",
    "# btn_upload = FileUpload(style_button='color: white; background-color: crimson; width: 180px;')\n",
    "#btn_upload.style.button_color = 'crimson'\n",
    "\n",
    "\n",
    "#button to run test\n",
    "btn_run = widgets.Button(description='Classify',\n",
    "                         #button_style='danger',\n",
    "                         #style = 'background-color:',\n",
    "                         tooltip='Click to classify',\n",
    "                         layout = Layout(width ='200px'))\n",
    "btn_run.style.color = 'white'\n",
    "\n",
    "# Uploaded Image\n",
    "out_pl = widgets.Output()\n",
    "image_placeholder = SimpleNamespace(data = ['shallow.jpg'])\n",
    "img = PILImage.create(image_placeholder.data[-1])\n",
    "with out_pl: display(img.to_thumb(400,300))\n",
    "\n",
    "# Prediction\n",
    "# info = blue(90-100),warning=orange (50 - 90), success=green(20 - 50),  danger=red(0 - 20)\n",
    "hairstyle = \"Afro\"\n",
    "predicion_value = 0.9256\n",
    "bar_pred = \"danger\"\n",
    "label_header1 = widgets.HTML(height = '50px',)\n",
    "label_header1.value= f\"<font color=crimson><font size=15><font family=cursive><b> {hairstyle} </font>\"\n",
    "\n",
    "# Probability\n",
    "prediction = widgets.FloatProgress(\n",
    "                value=f'{predicion_value * 100}',\n",
    "                min=0,\n",
    "                max=100.0,\n",
    "                step=0.1,\n",
    "                description=f'{predicion_value * 100}%',\n",
    "                bar_style=f'{bar_pred}',\n",
    "                orientation='horizontal'\n",
    "            )\n",
    "\n",
    "# label_header = widgets.Label()\n",
    "# label_header = widgets.Label(value = r'\\(\\color{orange} {\\huge Prediction:} {\\LARGE '+ hairstyle +'} \\)')\n",
    "#labelWidget = widgets.Label(value = r'\\(\\color{red} {' + text  + '}\\)')\n",
    "\n",
    "label_pred = widgets.Label(height = '50px')\n",
    "\n",
    "footer = widgets.HTML(height = '50px')\n",
    "footer_text = \"(Afro, Bantu Knots, Braids, Cornrows, Dreadlocks, Curly Hair, Pixie Hair, Twa(Natural Hair)\"\n",
    "footer.value= f\"<font color=black><font size=5><font family=cursive><b> {footer_text} </font>\"\n",
    "#prediction\n",
    "# label_layout = Layout(width='100px',height='30px')\n",
    "# display(HBox([Label('A description',layout=label_layout), IntSlider()]))\n",
    "# btn_upload"
   ]
  },
  {
   "cell_type": "code",
   "execution_count": 4,
   "metadata": {},
   "outputs": [],
   "source": [
    "# def on_click(change):\n",
    "#     #get image from button\n",
    "#     img = PILImage.create(btn_upload.data[-1])\n",
    "#     out_pl.clear_output()\n",
    "#     with out_pl: display(img.to_thumb(128,128))\n",
    "# #     pred, pred_idx, probs = learn_inf.predict(img)\n",
    "# #     label_pred.value = f'Prediction:{pred}; Probability:{probs[pred_idx]:.04f}'\n",
    "\n",
    "\n",
    "def on_click_classify(change):\n",
    "    #get image from button\n",
    "    #image_placeholder.layout = widgets.Layout(visibility = 'hidden')\n",
    "    img = PILImage.create(btn_upload.data[-1])\n",
    "    out_pl.clear_output()\n",
    "    with out_pl: display(img.to_thumb(400,300))\n",
    "    pred, pred_idx, probs = learn_inf.predict(img)\n",
    "    if(pred == 'afro'):\n",
    "        hairstyle = \"Afro\"\n",
    "    elif(pred == 'bantu_knots'):\n",
    "        hairstyle = \"Bantu Knots\"\n",
    "    elif(pred == 'box_braids'):\n",
    "        hairstyle = \"Braids\"\n",
    "    elif(pred == 'cornrows'):\n",
    "        hairstyle = \"Corn Rows\"\n",
    "    elif(pred == 'curly'):\n",
    "        hairstyle = \"Curly\"\n",
    "    elif(pred == 'dreadlocks'):\n",
    "        hairstyle = \"Dreadlocks\"\n",
    "    elif(pred == 'pixie'):\n",
    "        hairstyle = \"Pixie HairStyle\"\n",
    "    elif(pred == 'ponytail'):\n",
    "        hairstyle = \"Ponytail\"\n",
    "    elif(pred == 'twa'):\n",
    "        hairstyle = \"Twa or Natural\"\n",
    "    else:\n",
    "        hairstyle = \"Not In Dataset\"\n",
    "    \n",
    "    predicion_value = probs[pred_idx]\n",
    "    predicion_value *= 100\n",
    "    # info = blue(90-100),warning=orange (50 - 90), success=green(20 - 50),  danger=red(0 - 20)\n",
    "    if(predicion_value >= 90):\n",
    "        bar_pred = \"danger\"\n",
    "    elif(predicion_value >= 50 and prediction_value < 90):\n",
    "        bar_pred = \"warning\"\n",
    "    elif(predicion_value >= 20 and predicion_value < 50):\n",
    "        bar_pred = \"success\"\n",
    "    elif(predicion_value <= 20):\n",
    "        bar_pred = \"info\"       \n",
    "        \n",
    "    label_header1.value= f\"<font color=crimson><font size=15><font family=cursive><b> {hairstyle} </font>\"\n",
    "    prediction.value = f'{predicion_value :.02f}'\n",
    "    prediction.description = f'{predicion_value :.02f}%'\n",
    "    prediction.bar_style = f'{bar_pred}'\n",
    "    #label_header.value = r'\\(\\color{orange} {\\huge Prediction:} {\\LARGE '+ hairstyle +'} \\)' \n",
    "    label_pred.value = f'Prediction:{pred}; Probability:{probs[pred_idx]:.04f}'"
   ]
  },
  {
   "cell_type": "code",
   "execution_count": 5,
   "metadata": {},
   "outputs": [],
   "source": [
    "btn_upload.observe(on_click_classify, names=['data'])\n",
    "#btn_run.on_click(on_click_classify)"
   ]
  },
  {
   "cell_type": "code",
   "execution_count": 7,
   "metadata": {
    "scrolled": true
   },
   "outputs": [
    {
     "data": {
      "application/vnd.jupyter.widget-view+json": {
       "model_id": "a0b5ed4b8b384f58b56a290007f4329b",
       "version_major": 2,
       "version_minor": 0
      },
      "text/plain": [
       "VBox(children=(HTML(value='<font color=crimson><font size=15><font family=cursive><b> African HairStyle Classi…"
      ]
     },
     "metadata": {},
     "output_type": "display_data"
    },
    {
     "data": {
      "application/vnd.jupyter.widget-view+json": {
       "model_id": "c319668f2a7a4b15b54c2be042acf979",
       "version_major": 2,
       "version_minor": 0
      },
      "text/plain": [
       "VBox(children=(HTML(value='<font color=black><font size=5><i> \"Now, tell me what hairstyle Im looking at...\" <…"
      ]
     },
     "metadata": {},
     "output_type": "display_data"
    },
    {
     "data": {
      "application/vnd.jupyter.widget-view+json": {
       "model_id": "6958d09035ee479b800100c83cc526b4",
       "version_major": 2,
       "version_minor": 0
      },
      "text/plain": [
       "HBox(children=(VBox(children=(FileUpload(value={}, description='Upload'), Output(outputs=({'output_type': 'dis…"
      ]
     },
     "metadata": {},
     "output_type": "display_data"
    },
    {
     "data": {
      "application/vnd.jupyter.widget-view+json": {
       "model_id": "13aa263502c74e3ba4d8a4536dcfd5da",
       "version_major": 2,
       "version_minor": 0
      },
      "text/plain": [
       "VBox(children=(HTML(value='<font color=black><font size=5><font family=cursive><b> (Afro, Bantu Knots, Braids,…"
      ]
     },
     "metadata": {},
     "output_type": "display_data"
    }
   ],
   "source": [
    "#display(VBox([widgets.Label('What hairstyle is this?'), btn_upload, btn_run, out_pl, label_pred]))\n",
    "header_layout = widgets.Layout(display='flex',\n",
    "                justify_content = 'center',\n",
    "                align_items='center',\n",
    "                height = '50px',\n",
    "                #margin='10px 10px 10px 10px'\n",
    "                              )\n",
    "\n",
    "button_layout = widgets.Layout(margin='50px 10px 10px 5px')\n",
    "\n",
    "box_layout = widgets.Layout(display='flex',\n",
    "                justify_content = 'center',\n",
    "                align_items='center',\n",
    "                width='100%',\n",
    "                margin='10px 10px 10px 10px')\n",
    "\n",
    "box_layout2 = widgets.Layout(display='flex',\n",
    "                justify_content = 'center',\n",
    "                align_items='center',\n",
    "                width='100%',\n",
    "                margin='20px 10px 10px 10px')\n",
    "\n",
    "header_layout1 = widgets.Layout(display='flex',\n",
    "                justify_content = 'center',\n",
    "                align_items='center',\n",
    "                height = '50px',\n",
    "                #margin='10px 10px 10px 10px'\n",
    "                              )\n",
    "box_layout3 = widgets.Layout(display='flex',\n",
    "                justify_content = 'flex-start',\n",
    "                align_items='flex-start',\n",
    "                #height = '50px'\n",
    "                #width='10%',\n",
    "                #margin='0px 10px 10px 10px'\n",
    "                            )\n",
    "\n",
    "box_layout4 = widgets.Layout(display='flex',\n",
    "                justify_content = 'flex-end',\n",
    "                align_items='flex-end',\n",
    "                #width='10%',\n",
    "                margin='0px 10px 10px 10px')\n",
    "#box = widgets.HBox(children=[btn],layout=box_layout)\n",
    "# display(VBox([widgets.Label('What hairstyle is this?'), btn_upload, btn_run, out_pl, label_pred],layout=box_layout))\n",
    "\n",
    "file = open(\"head.png\", \"rb\")\n",
    "image = file.read()\n",
    "image_placeholder = widgets.Image(value=image,\n",
    "                                  format='png',\n",
    "                                  width='80%',\n",
    "#                                 height=10,\n",
    "                                  layout=header_layout1\n",
    "                                 )\n",
    "\n",
    "\n",
    "header1 = VBox([widgets.HTML(value=\"<font color=crimson><font size=15><font family=cursive><b> African HairStyle Classifier </font>\")],layout=header_layout)\n",
    "header2 = VBox([widgets.HTML(value=\"<font color=black><font size=5><i> \\\"Now, tell me what hairstyle Im looking at...\\\" </font>\")],layout=header_layout)\n",
    "header3 = VBox([image_placeholder],layout=box_layout2)\n",
    "\n",
    "\n",
    "vbox1 = VBox([label_header1,prediction],layout=box_layout2)\n",
    "vbox2 = VBox([btn_upload,out_pl,vbox1],layout=box_layout)\n",
    "\n",
    "\n",
    "file = open(\"afro.png\", \"rb\")\n",
    "image = file.read()\n",
    "image_placeholder_right = widgets.Image(value=image,\n",
    "                                  format='png',\n",
    "                                  width=100,\n",
    "                                  height=10,\n",
    "                                  layout=box_layout4\n",
    "                                 )\n",
    "\n",
    "display(header1)\n",
    "display(header2)\n",
    "#display(header3)\n",
    "#display(HBox([vbox1]))\n",
    "\n",
    "# display(HBox([vbox2,vbox3]))\n",
    "display(HBox([vbox2]))\n",
    "display(VBox([footer],layout=header_layout))\n",
    "\n",
    "# display(HBox([image_placeholder,vbox2]))\n",
    "# display(HBox([image_placeholder,)\n",
    "\n"
   ]
  },
  {
   "cell_type": "code",
   "execution_count": 58,
   "metadata": {},
   "outputs": [],
   "source": [
    "# # btn_upload.style.keys\n",
    "# #btn_run.style.button_color = 'lightgreen'\n",
    "\n",
    "# #['flex-start', 'flex-end', 'center', 'space-between', 'space-around', 'inherit', 'initial', 'unset'] \n",
    "\n",
    "# from IPython.display import HTML\n",
    "\n",
    "# # display(HTML(widgets.FileUpload(description=\"<font color=crimson><font size=15><font family=cursive><b> Upload Image... </font>\")\n",
    "# # ))\n",
    "\n",
    "# HTML(widgets.FileUpload(description=\"<font color=crimson><font size=15><font family=cursive><b> Upload Image... </font>\"))"
   ]
  },
  {
   "cell_type": "code",
   "execution_count": 59,
   "metadata": {},
   "outputs": [],
   "source": [
    "# layout_hidden  = widgets.Layout(visibility = 'hidden')\n",
    "# layout_visible = widgets.Layout(visibility = 'visible')\n",
    "\n",
    "# ########\n",
    "# def visible_txt(b):\n",
    "#     text_box.layout = layout_visible\n",
    "\n",
    "# def hidden_txt(b):\n",
    "#     text_box.layout = layout_hidden\n",
    "\n",
    "# # btn_visible.on_click(visible_txt)\n",
    "# # btn_hidden.on_click(hidden_txt)"
   ]
  },
  {
   "cell_type": "code",
   "execution_count": 9,
   "metadata": {},
   "outputs": [],
   "source": [
    "# def on_click(change):\n",
    "#     img = PILImage.create(btn_upload.data[-1])\n",
    "#     out_pl.clear_output()\n",
    "#     with out_pl: display(img.to_thumb(128,128))\n",
    "#     pred,pred_idx,probs = learn_inf.predict(img)\n",
    "#     label_pred.value = f'Prediction: {pred}; Probability: {probs[pred_idx]:.04f}'\n",
    "    \n",
    "# btns_upload.observe(on_click, names=['data'])\n",
    "\n",
    "# display(VBox([widgets.Label('Select your bear!'), btns_upload, out_pl, label_pred]))\n"
   ]
  },
  {
   "cell_type": "code",
   "execution_count": null,
   "metadata": {},
   "outputs": [],
   "source": []
  },
  {
   "cell_type": "code",
   "execution_count": null,
   "metadata": {},
   "outputs": [],
   "source": []
  },
  {
   "cell_type": "code",
   "execution_count": null,
   "metadata": {},
   "outputs": [],
   "source": []
  }
 ],
 "metadata": {
  "kernelspec": {
   "display_name": "Python [conda env:my_env]",
   "language": "python",
   "name": "conda-env-my_env-py"
  },
  "language_info": {
   "codemirror_mode": {
    "name": "ipython",
    "version": 3
   },
   "file_extension": ".py",
   "mimetype": "text/x-python",
   "name": "python",
   "nbconvert_exporter": "python",
   "pygments_lexer": "ipython3",
   "version": "3.7.3"
  }
 },
 "nbformat": 4,
 "nbformat_minor": 2
}
